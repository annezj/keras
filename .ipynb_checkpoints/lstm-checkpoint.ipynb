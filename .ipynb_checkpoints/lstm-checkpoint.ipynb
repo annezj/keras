{
 "cells": [
  {
   "cell_type": "markdown",
   "metadata": {},
   "source": [
    "LSTM course from https://machinelearningmastery.com/long-short-term-memory-recurrent-neural-networks-mini-course\n",
    "The Vanilla LSTM is defined as:\n",
    "Input layer.\n",
    "Fully connected LSTM hidden layer.\n",
    "Fully connected output layer.\n",
    "model = Sequential()\n",
    "model.add(LSTM(..., input_shape=(...)))\n",
    "model.add(Dense(...))\n",
    "\n",
    "RNN Examples from http://karpathy.github.io/2015/05/21/rnn-effectiveness/\n"
   ]
  },
  {
   "cell_type": "code",
   "execution_count": 8,
   "metadata": {},
   "outputs": [],
   "source": [
    "import tensorflow as tf\n",
    "import numpy as np\n",
    "from tensorflow.python.keras.layers import Dense\n",
    "from tensorflow.python.keras.models import Sequential"
   ]
  },
  {
   "cell_type": "code",
   "execution_count": 13,
   "metadata": {},
   "outputs": [],
   "source": [
    "# The RNN class has some internal state that it gets to update every \n",
    "# time step() is called. In the simplest case this state consists of a \n",
    "# single hidden vector, h \n",
    "# The RNNs parameters are three matrices W_hh, W_xh and W_hy\n",
    "# The hidden state is self.h\n",
    "# Activations are forced to the range (-1, 1) by tanh\n",
    "# Input is x\n",
    "class RNN:\n",
    "  def step(self, x):\n",
    "    # update the hidden state\n",
    "    self.h = np.tanh(np.dot(self.W_hh, self.h) + \n",
    "                     np.dot(self.W_xh, x))\n",
    "    # compute the output vector\n",
    "    y = np.dot(self.W_hy, self.h)\n",
    "    return y\n",
    "# use example\n",
    "# rnn = RNN()\n",
    "# x = np.array([0,1,2,3,4])\n",
    "# y = rnn.step(x)"
   ]
  },
  {
   "cell_type": "code",
   "execution_count": 28,
   "metadata": {},
   "outputs": [
    {
     "name": "stdout",
     "output_type": "stream",
     "text": [
      "data has 555 characters, 37 unique.\n"
     ]
    }
   ],
   "source": [
    "# Vanilla RNN example from https://gist.github.com/karpathy/d4dee566867f8291f086\n",
    "# My conversion to python 3\n",
    "# data i/o\n",
    "data = open('anh-crawl.txt', 'r').read()\n",
    "chars = list(set(data))\n",
    "# get contents and enumerate characters\n",
    "data_size, vocab_size = len(data), len(chars)\n",
    "print ('data has %d characters, %d unique.' % \n",
    "       (data_size, vocab_size))\n",
    "char_to_ix = { ch:i for i, ch in enumerate(chars)}\n",
    "ix_to_char = { i:ch for i, ch in enumerate(chars)}\n"
   ]
  },
  {
   "cell_type": "code",
   "execution_count": 41,
   "metadata": {},
   "outputs": [],
   "source": [
    "# set parameters \n",
    "hidden_size = 100 # size of hidden layer of neurons\n",
    "seq_length = 25 # number of steps to unroll RNN for\n",
    "learning_rate = 1e-1\n",
    "# input to hidden\n",
    "Wxh = np.random.randn(hidden_size, vocab_size)*0.01\n",
    "# hidden to hidden\n",
    "Whh = np.random.randn(hidden_size, hidden_size)*0.01\n",
    "# hidden to output\n",
    "Why = np.random.randn(vocab_size, hidden_size)*0.01\n",
    "# hidden bias\n",
    "bh = np.zeros((hidden_size, 1))\n",
    "# output bias\n",
    "by = np.zeros((vocab_size, 1))"
   ]
  },
  {
   "cell_type": "code",
   "execution_count": 48,
   "metadata": {},
   "outputs": [],
   "source": [
    "def lossFun(inputs, targets, hprev):\n",
    "    \"\"\"\n",
    "    inputs, targets are both lists of integers\n",
    "    inputs = encoding of character as input\n",
    "    targets = encoding of character which should be the output\n",
    "    hprev is a H x 1 array of initial hidden state\n",
    "    function returns the loss, gradients on model parameters\n",
    "    and last hidden state\n",
    "    \"\"\"\n",
    "    # create empty dictionaries for states\n",
    "    xs, hs, ys, ps = {}, {}, {}, {}\n",
    "    # copy contents of initial hidden state to last item in \n",
    "    # dictionary\n",
    "    hs[-1] = np.copy(hprev)\n",
    "    loss = 0\n",
    "    # forward pass\n",
    "    # loop over input sequence (time)\n",
    "    for t in range(len(inputs)):\n",
    "        # encode in 1 of k representation\n",
    "        xs[t] = np.zeros((vocab_size, 1)) # initialise to 0\n",
    "        xs[t][inputs[t]] = 1 # set value for this character to 1\n",
    "        # hidden state\n",
    "        hs[t] = np.tanh(np.dot(Wxh, xs[t]) + np.dot(Whh, hs[t-1]) + bh)\n",
    "        # unnormalized log probabilities for next chars\n",
    "        ys[t] = np.dot(Why, hs[t]) + by \n",
    "        # probabilities for next chars\n",
    "        ps[t] = np.exp(ys[t]) / np.sum(np.exp(ys[t]))\n",
    "        # softmax (cross-entropy loss)\n",
    "        loss += -np.log(ps[t][targets[t], 0])\n",
    "        # backward pass: compute gradients going backwards\n",
    "        dWxh, dWhh, dWhy = np.zeros_like(Wxh), np.zeros_like(Whh), np.zeros_like(Why)\n",
    "        dbh, dby = np.zeros_like(bh), np.zeros_like(by)\n",
    "        dhnext = np.zeros_like(hs[0])\n",
    "        for t in reversed(xrange(len(inputs))):\n",
    "            dy = np.copy(ps[t])\n",
    "            dy[targets[t]] -= 1 # backprop into y. see http://cs231n.github.io/neural-networks-case-study/#grad if confused here\n",
    "            dWhy += np.dot(dy, hs[t].T)\n",
    "            dby += dy\n",
    "            dh = np.dot(Why.T, dy) + dhnext # backprop into h\n",
    "            dhraw = (1 - hs[t] * hs[t]) * dh # backprop through tanh nonlinearity\n",
    "            dbh += dhraw\n",
    "            dWxh += np.dot(dhraw, xs[t].T)\n",
    "            dWhh += np.dot(dhraw, hs[t-1].T)\n",
    "            dhnext = np.dot(Whh.T, dhraw)\n",
    "    for dparam in [dWxh, dWhh, dWhy, dbh, dby]:\n",
    "        np.clip(dparam, -5, 5, out=dparam) # clip to mitigate exploding gradients\n",
    "    return loss, dWxh, dWhh, dWhy, dbh, dby, hs[len(inputs)-1]"
   ]
  },
  {
   "cell_type": "code",
   "execution_count": 47,
   "metadata": {},
   "outputs": [
    {
     "name": "stdout",
     "output_type": "stream",
     "text": [
      "0\n",
      "1\n",
      "2\n"
     ]
    }
   ],
   "source": [
    "def sample(h, seed_ix, n):\n",
    "    \"\"\" \n",
    "     sample a sequence of integers from the model \n",
    "     h is memory state, seed_ix is seed letter for first time step\n",
    "    \"\"\"\n",
    "    x = np.zeros((vocab_size, 1))\n",
    "    x[seed_ix] = 1\n",
    "    ixes = []\n",
    "    for t in xrange(n):\n",
    "        h = np.tanh(np.dot(Wxh, x) + np.dot(Whh, h) + bh)\n",
    "        y = np.dot(Why, h) + by\n",
    "        p = np.exp(y) / np.sum(np.exp(y))\n",
    "        ix = np.random.choice(range(vocab_size), p=p.ravel())\n",
    "        x = np.zeros((vocab_size, 1))\n",
    "        x[ix] = 1\n",
    "        ixes.append(ix)\n",
    "    return ixes"
   ]
  },
  {
   "cell_type": "code",
   "execution_count": null,
   "metadata": {},
   "outputs": [],
   "source": []
  }
 ],
 "metadata": {
  "kernelspec": {
   "display_name": "Python [conda env:test-env]",
   "language": "python",
   "name": "conda-env-test-env-py"
  },
  "language_info": {
   "codemirror_mode": {
    "name": "ipython",
    "version": 3
   },
   "file_extension": ".py",
   "mimetype": "text/x-python",
   "name": "python",
   "nbconvert_exporter": "python",
   "pygments_lexer": "ipython3",
   "version": "3.6.5"
  }
 },
 "nbformat": 4,
 "nbformat_minor": 2
}
